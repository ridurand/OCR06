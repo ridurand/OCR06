{
 "cells": [
  {
   "cell_type": "markdown",
   "metadata": {},
   "source": [
    "# Initialisation du notebook\n",
    "\n",
    "L'objectif du module est de développer un système de suggestion de tags pour le site Stack Overflow. Celui-ci prendra la forme d’un algorithme de machine learning qui assigne automatiquement plusieurs tags pertinents à une question.\n",
    "\n",
    "Ce notebook se consacre à l'exploration des données brutes. "
   ]
  },
  {
   "cell_type": "code",
   "execution_count": 1,
   "metadata": {},
   "outputs": [
    {
     "data": {
      "application/javascript": [
       "IPython.OutputArea.auto_scroll_threshold=10\n"
      ],
      "text/plain": [
       "<IPython.core.display.Javascript object>"
      ]
     },
     "metadata": {},
     "output_type": "display_data"
    }
   ],
   "source": [
    "%%javascript\n",
    "IPython.OutputArea.auto_scroll_threshold=10"
   ]
  },
  {
   "cell_type": "code",
   "execution_count": 2,
   "metadata": {},
   "outputs": [],
   "source": [
    "# -*- coding: utf-8 -*-\n",
    "%matplotlib inline\n",
    "import numpy as np\n",
    "import pandas as pd\n",
    "import pandas_profiling\n",
    "import matplotlib.pyplot as plt\n",
    "import seaborn as sns\n",
    "import glob, os, pickle, warnings\n",
    "import re\n",
    "from sklearn.preprocessing import MultiLabelBinarizer\n",
    "import collections\n",
    "\n",
    "# Déclaration de variables \n",
    "\n",
    "data_path = r\"C:\\OCR\\06 _ Catégorisez automatiquement des questions\"\n",
    "   \n",
    "pd.options.mode.chained_assignment = None # default='warn'\n",
    "pd.set_option('display.max_columns', None)  \n",
    "pd.set_option('display.max_colwidth', -1)\n",
    "pd.set_option('display.max_rows', None)\n",
    "pd.options.display.float_format = '{:,.2f}'.format\n",
    "warnings.filterwarnings(\"ignore\")"
   ]
  },
  {
   "cell_type": "markdown",
   "metadata": {},
   "source": [
    "# Chargement et découverte des données brutes"
   ]
  },
  {
   "cell_type": "code",
   "execution_count": 3,
   "metadata": {},
   "outputs": [
    {
     "name": "stdout",
     "output_type": "stream",
     "text": [
      "Taille du CSV importé : (91947, 6)\n",
      "         Type\n",
      "Id     int64 \n",
      "Name   object\n",
      "Score  int64 \n",
      "Body   object\n",
      "Title  object\n",
      "Tags   object\n"
     ]
    }
   ],
   "source": [
    "all_files = glob.glob(os.path.join(data_path, \"QueryResults*.csv\")) \n",
    "\n",
    "li = []\n",
    "\n",
    "for absolute_filename in all_files:\n",
    "    path, file = os.path.split(absolute_filename)\n",
    "    df = pd.read_csv(absolute_filename, sep=',', encoding='utf-8', engine='python', error_bad_lines=False)\n",
    "    li.append(df)\n",
    "\n",
    "df_brut = pd.concat(li, axis=0, ignore_index=True)\n",
    "\n",
    "print('Taille du CSV importé : {0}'.format(df_brut.shape))\n",
    "\n",
    "print(pd.DataFrame(df_brut.dtypes, columns=['Type']))"
   ]
  },
  {
   "cell_type": "code",
   "execution_count": 4,
   "metadata": {},
   "outputs": [],
   "source": [
    "df_brut.to_pickle(\"./df_brut.pkl\")"
   ]
  },
  {
   "cell_type": "markdown",
   "metadata": {},
   "source": [
    "Les données extraites ciblent uniquement les posts de type \"Question\" dont les Id sont compris entre 0 et 600000."
   ]
  },
  {
   "cell_type": "code",
   "execution_count": null,
   "metadata": {},
   "outputs": [],
   "source": [
    "df_brut = pd.read_pickle('./df_brut.pkl')"
   ]
  },
  {
   "cell_type": "markdown",
   "metadata": {},
   "source": [
    "# Pandas Profiling"
   ]
  },
  {
   "cell_type": "code",
   "execution_count": null,
   "metadata": {},
   "outputs": [],
   "source": [
    "profile = df_brut.profile_report(title='Pandas Profiling Report', style={'full_width':True})\n",
    "profile.to_file(output_file=\"output.html\")"
   ]
  },
  {
   "cell_type": "markdown",
   "metadata": {},
   "source": [
    "Aucune valeur manquante dans BODY, TITLE et TAGS"
   ]
  },
  {
   "cell_type": "code",
   "execution_count": null,
   "metadata": {},
   "outputs": [],
   "source": [
    "import matplotlib.pyplot as plt\n",
    "\n",
    "# Boxplot of the variable Score\n",
    "plt.figure(figsize=(5, 5))\n",
    "plt.title(\"Boxplot of Score\", fontsize=20)\n",
    "\n",
    "# Boxplot without showing the outliers \n",
    "plt.xticks(size=15)\n",
    "plt.yticks(size=15)\n",
    "plt.boxplot(df_brut[\"Score\"], showfliers=False, labels=['Score'])\n",
    "plt.style.use('fivethirtyeight')\n",
    "plt.show()"
   ]
  },
  {
   "cell_type": "code",
   "execution_count": null,
   "metadata": {},
   "outputs": [],
   "source": [
    "posts_tags = df_brut[df_brut.Score >= 3]['Tags']\n",
    "posts_body = df_brut[df_brut.Score >= 3]['Body']\n",
    "print(\"Nombre de posts :\", posts_tags.shape[0])"
   ]
  },
  {
   "cell_type": "markdown",
   "metadata": {},
   "source": [
    "# Analyse de la variable TAGS"
   ]
  },
  {
   "cell_type": "code",
   "execution_count": null,
   "metadata": {},
   "outputs": [],
   "source": [
    "posts_tags.head(5)"
   ]
  },
  {
   "cell_type": "code",
   "execution_count": null,
   "metadata": {},
   "outputs": [],
   "source": [
    "posts_tags.loc[posts_tags.str.contains('<c#>')].head(10)"
   ]
  },
  {
   "cell_type": "code",
   "execution_count": null,
   "metadata": {},
   "outputs": [],
   "source": [
    "# je compte les occurrences de chaque tag dans le dataframe\n",
    "from collections import Counter\n",
    "alltags_count = Counter()\n",
    "posts_tags.apply(lambda x : alltags_count.update([s for s in x.split('>') if s != ''])) ;"
   ]
  },
  {
   "cell_type": "code",
   "execution_count": null,
   "metadata": {},
   "outputs": [],
   "source": [
    "print('There are %d tags' % len(alltags_count.keys()))"
   ]
  },
  {
   "cell_type": "code",
   "execution_count": null,
   "metadata": {
    "scrolled": false
   },
   "outputs": [],
   "source": [
    "import matplotlib.pyplot as plt\n",
    "# Graphique des 30 tags les plus utilisés sur Stackoverflow\n",
    "\n",
    "top30tags = alltags_count.most_common(30)\n",
    "\n",
    "plt.figure(figsize=(20, 5))\n",
    "y_axis = [i[1] for i in top30tags]\n",
    "label_x = [i[0] for i in top30tags]\n",
    "ax = plt.axes()\n",
    "plt.bar(label_x, y_axis)\n",
    "plt.xticks(rotation=90, fontsize=15)\n",
    "plt.yticks(fontsize=15)\n",
    "plt.title(\"30 most used tags on Stackoverflow\",fontsize=20)\n",
    "plt.xlabel('Tag', fontsize=18)\n",
    "plt.ylabel('Number of occurrences', fontsize=18)\n",
    "plt.style.use('fivethirtyeight')\n",
    "plt.show()"
   ]
  },
  {
   "cell_type": "markdown",
   "metadata": {},
   "source": [
    "### Nombre de posts impactés par les 100 à 1000 premiers tags"
   ]
  },
  {
   "cell_type": "code",
   "execution_count": null,
   "metadata": {},
   "outputs": [],
   "source": [
    "nb_posts_targeted = dict() \n",
    "\n",
    "for nb_top_tags in np.linspace(100, 1000, 10, dtype='int'):\n",
    "\n",
    "    top_tags = [tag[0] for tag in alltags_count.most_common(nb_top_tags)]\n",
    "    nb_posts_targeted[nb_top_tags] = 0\n",
    "    \n",
    "    for tags in posts_tags.str.split('>'):\n",
    "        for tag in tags:\n",
    "            if tag in top_tags:\n",
    "                nb_posts_targeted[nb_top_tags] += 1\n",
    "                break\n",
    "\n",
    "    percentage_posts = (nb_posts_targeted[nb_top_tags]/posts_tags.shape[0])*100\n",
    "    print('With %d tags kept, %.2f %% of the posts are concerned ' % (nb_top_tags, percentage_posts))                        "
   ]
  },
  {
   "cell_type": "code",
   "execution_count": null,
   "metadata": {},
   "outputs": [],
   "source": [
    "import matplotlib.pyplot as plt\n",
    "# Graphique représentant le pourcentage de posts qui ont au moins un des top tags\n",
    "\n",
    "plt.figure(figsize=(20, 5))\n",
    "y_axis = [nb_posts_targeted[i]/posts_tags.shape[0]*100 for i in np.arange(100,1100, 100)]\n",
    "label_x = [str(i) for i in np.arange(100,1100, 100)]\n",
    "ax = plt.axes()\n",
    "plt.bar(label_x, y_axis)\n",
    "plt.xticks(rotation=90, fontsize=15)\n",
    "plt.yticks(fontsize=15)\n",
    "plt.title(\"Percentage of posts that have at least one of the top tags\",fontsize=20)\n",
    "plt.xlabel('Total number of tags kept', fontsize=18)\n",
    "plt.ylabel('Percentage of posts', fontsize=18)\n",
    "plt.style.use('fivethirtyeight')\n",
    "plt.show()"
   ]
  },
  {
   "cell_type": "markdown",
   "metadata": {},
   "source": [
    "### Nombre de posts impactés par les 10 à 100 premiers tags"
   ]
  },
  {
   "cell_type": "code",
   "execution_count": null,
   "metadata": {},
   "outputs": [],
   "source": [
    "nb_posts_targeted = dict() \n",
    "\n",
    "for nb_top_tags in np.linspace(10, 100, 10, dtype='int'):\n",
    "\n",
    "    top_tags = [tag[0] for tag in alltags_count.most_common(nb_top_tags)]\n",
    "    nb_posts_targeted[nb_top_tags] = 0\n",
    "    \n",
    "    for tags in posts_tags.str.split('>'):\n",
    "        for tag in tags:\n",
    "            if tag in top_tags:\n",
    "                nb_posts_targeted[nb_top_tags] += 1\n",
    "                break\n",
    "\n",
    "    percentage_posts = (nb_posts_targeted[nb_top_tags]/posts_tags.shape[0])*100\n",
    "    print('With %d tags kept, %.2f %% of the posts are concerned ' % (nb_top_tags, percentage_posts))                        "
   ]
  },
  {
   "cell_type": "code",
   "execution_count": null,
   "metadata": {},
   "outputs": [],
   "source": [
    "import matplotlib.pyplot as plt\n",
    "# Graphique représentant le pourcentage de posts qui ont au moins un des top tags\n",
    "\n",
    "plt.figure(figsize=(20, 5))\n",
    "y_axis = [nb_posts_targeted[i]/posts_tags.shape[0]*100 for i in np.arange(10,100, 10)]\n",
    "label_x = [str(i) for i in np.arange(10,100, 10)]\n",
    "ax = plt.axes()\n",
    "plt.bar(label_x, y_axis)\n",
    "plt.xticks(rotation=90, fontsize=15)\n",
    "plt.yticks(fontsize=15)\n",
    "plt.title(\"Percentage of posts that have at least one of the top tags\",fontsize=20)\n",
    "plt.xlabel('Total number of tags kept', fontsize=18)\n",
    "plt.ylabel('Percentage of posts', fontsize=18)\n",
    "plt.style.use('fivethirtyeight')\n",
    "plt.show()"
   ]
  },
  {
   "cell_type": "code",
   "execution_count": null,
   "metadata": {},
   "outputs": [],
   "source": [
    "def keep_most_common_tags(tags, top_tags, n_tags):\n",
    "    ''' keep only the tags that are part of the top most used tags on StackOverflow\n",
    "        filtered tags are sorted by order of appearance in top_tags list\n",
    "\n",
    "    tags: tags associated to post\n",
    "    top_tags: most_commonn tags\n",
    "    n_tags: number of tags by sample\n",
    "    '''\n",
    "    \n",
    "    clean_tags = tags.split('>')\n",
    "    tags_filtered = []\n",
    "    \n",
    "    for tag in clean_tags:\n",
    "        if tag in top_tags: \n",
    "            index = top_tags.index(tag)\n",
    "            tags_filtered.insert(index,tag)    \n",
    "    \n",
    "    tags_filtered = tags_filtered[:n_tags]\n",
    "    \n",
    "    return tags_filtered"
   ]
  },
  {
   "cell_type": "markdown",
   "metadata": {},
   "source": [
    "Je ne vais conserver qu'un nombre réduit de tags, d'une part, parce que c'est plus facile de prédire le bon tag à partir d'un nombre réduit de mots ; d'autre part, parce que dans les 10 000 tags, certains sont extrêmement confidentiels et spécifiques\n",
    "\n",
    "### Top 100 tags = 74% des posts impactés\n",
    "### Aucune limitation sur le nombre de tags par post"
   ]
  },
  {
   "cell_type": "code",
   "execution_count": null,
   "metadata": {},
   "outputs": [],
   "source": [
    "top100tags = [tag[0] for tag in alltags_count.most_common(100)]\n",
    "\n",
    "print(\"Nombre de posts avant : {0}\".format(posts_tags.shape[0]))\n",
    "\n",
    "posts_top100tags = posts_tags.copy()\n",
    "posts_top100tags = posts_top100tags.apply(lambda x: keep_most_common_tags(x, top100tags, 5))\n",
    "posts_top100tags = posts_top100tags.apply(lambda x: x if len(x)>0 else None)\n",
    "posts_top100tags.dropna(inplace=True)\n",
    "\n",
    "print('Nombre de posts après : {0}'.format(posts_top100tags.shape[0]))"
   ]
  },
  {
   "cell_type": "markdown",
   "metadata": {},
   "source": [
    "#### Fréquence des tags conservés "
   ]
  },
  {
   "cell_type": "code",
   "execution_count": null,
   "metadata": {},
   "outputs": [],
   "source": [
    "toptags_count = np.asarray([tag[1] for tag in alltags_count.most_common(100)])\n",
    "toptags_count = pd.Series(toptags_count / sum(toptags_count) * 100, index=top100tags)\n",
    "toptags_count.apply(lambda x: \"{0:.2f}%\".format(x))"
   ]
  },
  {
   "cell_type": "markdown",
   "metadata": {},
   "source": [
    "#### Nombre de tags par post et fréquence"
   ]
  },
  {
   "cell_type": "code",
   "execution_count": null,
   "metadata": {},
   "outputs": [],
   "source": [
    "# Binarizing the tags for the supervised models\n",
    "multilabel_binarizer = MultiLabelBinarizer()\n",
    "Y = multilabel_binarizer.fit_transform(posts_top100tags)\n",
    "Y_sum = np.sum(Y,axis=1)\n",
    "print([*collections.Counter(Y_sum).values()])\n",
    "print([*collections.Counter(Y_sum).keys()])\n",
    "print(Y.shape)"
   ]
  },
  {
   "cell_type": "code",
   "execution_count": null,
   "metadata": {},
   "outputs": [],
   "source": [
    "import matplotlib.pyplot as plt\n",
    "# Nombre de tags par document\n",
    "Y_n_tags = np.sum(multilabel_binarizer.fit_transform(posts_top100tags),axis=1)\n",
    "# Fréquence du nombre de tags par document\n",
    "multiLabel_counts = collections.Counter(Y_n_tags)\n",
    "# clés \n",
    "# print([x[0] for x in multiLabel_counts.most_common()])\n",
    "# valeurs \n",
    "# print([x[1] for x in multiLabel_counts.most_common()])\n",
    "plt.figure(figsize=(15,5)) \n",
    "ax = sns.barplot([x[0] for x in multiLabel_counts.most_common()], [x[1] for x in multiLabel_counts.most_common()])\n",
    "plt.xticks(fontsize=15)\n",
    "plt.yticks(fontsize=15)\n",
    "plt.title(\"Questions having multiple tags\",fontsize=20)\n",
    "plt.xlabel('Number of tags', fontsize=18)\n",
    "plt.ylabel('Number of posts', fontsize=18)\n",
    "#adding the text labels\n",
    "rects = ax.patches\n",
    "labels = [x[1] for x in multiLabel_counts.most_common()] / np.sum([x[1] for x in multiLabel_counts.most_common()]) \n",
    "labels = [\"{:0.1%}\".format(x) for x in labels]\n",
    "for rect, label in zip(rects, labels):\n",
    "    height = rect.get_height()\n",
    "    ax.text(rect.get_x() + rect.get_width()/2, height + 5, label, ha='center', va='bottom', fontsize=15)\n",
    "plt.style.use('fivethirtyeight')    \n",
    "plt.show()"
   ]
  },
  {
   "cell_type": "markdown",
   "metadata": {},
   "source": [
    "### Limitation à 3 tags par post"
   ]
  },
  {
   "cell_type": "code",
   "execution_count": null,
   "metadata": {},
   "outputs": [],
   "source": [
    "print(\"Nombre de posts avant : {0}\".format(posts_tags.shape[0]))\n",
    "\n",
    "posts_top100tags_3labels = posts_tags.copy()\n",
    "posts_top100tags_3labels = posts_top100tags_3labels.apply(lambda x: keep_most_common_tags(x, top100tags, 3))\n",
    "posts_top100tags_3labels = posts_top100tags_3labels.apply(lambda x: x if len(x)>0 else None)\n",
    "posts_top100tags_3labels.dropna(inplace=True)\n",
    "\n",
    "print('Nombre de posts après : {0}'.format(posts_top100tags_3labels.shape[0]))"
   ]
  },
  {
   "cell_type": "markdown",
   "metadata": {},
   "source": [
    "#### Fréquence des tags conservés "
   ]
  },
  {
   "cell_type": "code",
   "execution_count": null,
   "metadata": {},
   "outputs": [],
   "source": [
    "# je recompte les occurrences de chaque tag vu que j'en ai réduit le nombre\n",
    "alltags_count_reduced = Counter()\n",
    "posts_top100tags_3labels.apply(lambda x : alltags_count_reduced.update([s for s in x if s != ''])) ;\n",
    "toptags_count = np.asarray([tag[1] for tag in alltags_count_reduced.most_common(100)])\n",
    "toptags_count = pd.Series(toptags_count / sum(toptags_count) * 100, index=top100tags)\n",
    "toptags_count.apply(lambda x: \"{0:.2f}%\".format(x))"
   ]
  },
  {
   "cell_type": "code",
   "execution_count": null,
   "metadata": {},
   "outputs": [],
   "source": [
    "# Binarizing the tags for the supervised models\n",
    "multilabel_binarizer = MultiLabelBinarizer()\n",
    "Y = multilabel_binarizer.fit_transform(posts_top100tags_3labels)\n",
    "Y_sum = np.sum(Y,axis=1)\n",
    "print([*collections.Counter(Y_sum).values()])\n",
    "print([*collections.Counter(Y_sum).keys()])\n",
    "print(Y.shape)"
   ]
  },
  {
   "cell_type": "code",
   "execution_count": null,
   "metadata": {},
   "outputs": [],
   "source": [
    "import matplotlib.pyplot as plt\n",
    "# Binarizing the tags for the supervised models\n",
    "multilabel_binarizer = MultiLabelBinarizer()\n",
    "# Nombre de tags par document\n",
    "Y_n_tags = np.sum(multilabel_binarizer.fit_transform(posts_top100tags_3labels),axis=1)\n",
    "# Fréquence du nombre de tags par document\n",
    "multiLabel_counts = collections.Counter(Y_n_tags)\n",
    "# clés \n",
    "# print([x[0] for x in multiLabel_counts.most_common()])\n",
    "# valeurs \n",
    "# print([x[1] for x in multiLabel_counts.most_common()])\n",
    "plt.figure(figsize=(15,5)) \n",
    "ax = sns.barplot([x[0] for x in multiLabel_counts.most_common()], [x[1] for x in multiLabel_counts.most_common()])\n",
    "plt.xticks(fontsize=15)\n",
    "plt.yticks(fontsize=15)\n",
    "plt.title(\"Questions having multiple tags\",fontsize=20)\n",
    "plt.xlabel('Number of tags', fontsize=18)\n",
    "plt.ylabel('Number of posts', fontsize=18)\n",
    "#adding the text labels\n",
    "rects = ax.patches\n",
    "labels = [x[1] for x in multiLabel_counts.most_common()] / np.sum([x[1] for x in multiLabel_counts.most_common()]) \n",
    "labels = [\"{:0.1%}\".format(x) for x in labels]\n",
    "for rect, label in zip(rects, labels):\n",
    "    height = rect.get_height()\n",
    "    ax.text(rect.get_x() + rect.get_width()/2, height + 5, label, ha='center', va='bottom', fontsize=15)\n",
    "plt.style.use('fivethirtyeight')    \n",
    "plt.show()"
   ]
  },
  {
   "cell_type": "code",
   "execution_count": null,
   "metadata": {},
   "outputs": [],
   "source": [
    "# SAUVEGARDE\n",
    "alltags_counter = alltags_count_reduced\n",
    "with open('alltags_counter.pkl', 'wb') as f:    \n",
    "    pickle.dump(alltags_counter, f)\n",
    "    \n",
    "posts_body.to_pickle(\"./posts_body.pkl\")\n",
    "posts_top100tags.to_pickle(\"./posts_top100tags.pkl\")\n",
    "posts_top100tags_3labels.to_pickle(\"./posts_top100tags_3labels.pkl\")"
   ]
  }
 ],
 "metadata": {
  "kernelspec": {
   "display_name": "Python 3",
   "language": "python",
   "name": "python3"
  },
  "language_info": {
   "codemirror_mode": {
    "name": "ipython",
    "version": 3
   },
   "file_extension": ".py",
   "mimetype": "text/x-python",
   "name": "python",
   "nbconvert_exporter": "python",
   "pygments_lexer": "ipython3",
   "version": "3.7.1"
  }
 },
 "nbformat": 4,
 "nbformat_minor": 2
}
