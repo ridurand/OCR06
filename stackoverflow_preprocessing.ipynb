{
 "cells": [
  {
   "cell_type": "markdown",
   "metadata": {},
   "source": [
    "# Initialisation du notebook\n",
    "\n",
    "L'objectif du module est de développer un système de suggestion de tag pour le site Stack Overflow. Celui-ci prendra la forme d’un algorithme de machine learning qui assigne automatiquement plusieurs tags pertinents à une question.\n",
    "\n",
    "Ce notebook se consacre au préprocessing des données textuelles."
   ]
  },
  {
   "cell_type": "code",
   "execution_count": 1,
   "metadata": {},
   "outputs": [
    {
     "data": {
      "application/javascript": [
       "IPython.OutputArea.auto_scroll_threshold=10\n"
      ],
      "text/plain": [
       "<IPython.core.display.Javascript object>"
      ]
     },
     "metadata": {},
     "output_type": "display_data"
    }
   ],
   "source": [
    "%%javascript\n",
    "IPython.OutputArea.auto_scroll_threshold=10"
   ]
  },
  {
   "cell_type": "code",
   "execution_count": 2,
   "metadata": {},
   "outputs": [],
   "source": [
    "# -*- coding: utf-8 -*-\n",
    "%matplotlib inline\n",
    "import numpy as np\n",
    "import pandas as pd\n",
    "import matplotlib.pyplot as plt\n",
    "import seaborn as sns\n",
    "import glob, os, pickle, warnings\n",
    "from sklearn.utils import resample\n",
    "import re, spacy, nltk\n",
    "from bs4 import BeautifulSoup\n",
    "from nltk.corpus import stopwords\n",
    "from string import punctuation\n",
    "\n",
    "# no recognition of dependency labels and named entities \n",
    "nlp = spacy.load('en', disable=['parser', 'ner'])   \n",
    "#print(_nlp.pipe_names)\n",
    "\n",
    "# Create a Tokenizer with the default settings for English\n",
    "# including punctuation rules and exceptions\n",
    "spacy_tokenizer = nlp.Defaults.create_tokenizer(nlp)\n",
    "# Spacy va permettre de gérer ce genre de cas : i'm having issues. \n",
    "# Plutôt de renvoyer \"i\", \"m\", Spacy va renvoyer \"i\", \"'m\"\n",
    "# tokens = tokenizer(\"i'm having issues\")\n",
    "\n",
    "# Déclaration de variables \n",
    "data_path = r\"C:\\OCR\\06 _ Catégorisez automatiquement des questions\"\n",
    "   \n",
    "pd.options.mode.chained_assignment = None # default='warn'\n",
    "pd.set_option('display.max_columns', None)  \n",
    "pd.set_option('display.max_colwidth', -1)\n",
    "pd.set_option('display.max_rows', None)\n",
    "pd.options.display.float_format = '{:,.2f}'.format\n",
    "warnings.filterwarnings(\"ignore\")"
   ]
  },
  {
   "cell_type": "code",
   "execution_count": 3,
   "metadata": {},
   "outputs": [],
   "source": [
    "# CHARGEMENT\n",
    "with open('alltags_counter.pkl', 'rb') as f:\n",
    "    alltags_counter = pickle.load(f) \n",
    "\n",
    "top100tags = [tag[0]+'>' for tag in alltags_counter.most_common(100)]\n",
    "\n",
    "posts_body = pd.read_pickle('./posts_body.pkl')\n",
    "posts_top100tags = pd.read_pickle('./posts_top100tags.pkl')\n",
    "posts_top100tags_3labels = pd.read_pickle(\"./posts_top100tags_3labels.pkl\")"
   ]
  },
  {
   "cell_type": "markdown",
   "metadata": {},
   "source": [
    "# Préprocessing des données textuelles\n",
    "\n",
    "- Suppression des postes dont le score est inférieur à 3\n",
    "- Suppression du format html avec le package Beautiful Soup \n",
    "- Mise en minuscules du texte \n",
    "- Transformations des abréviations\n",
    "- Suppression des stop words proposés par les modules NLP\n",
    "- Lemmatisation\n",
    "- Suppression des verbes et adjectifs qui n'apportent de valeur ajoutée pour ce que je souhaite faire\n",
    "- Suppression de stop words manuels"
   ]
  },
  {
   "cell_type": "code",
   "execution_count": 4,
   "metadata": {},
   "outputs": [],
   "source": [
    "few_posts = resample(posts_body, n_samples=10, random_state=0)"
   ]
  },
  {
   "cell_type": "code",
   "execution_count": null,
   "metadata": {},
   "outputs": [],
   "source": [
    "def clean_text(text):\n",
    "    ''' Lowering text and removing undesirable marks\n",
    "    Parameter:\n",
    "    text: corpus to clean\n",
    "    '''\n",
    "\n",
    "    \n",
    "    text = text.lower()\n",
    "    text = re.sub(r\"\\'\\n\", \" \", text) # removes line feeds\n",
    "    text = re.sub(r\"\\'\\xa0\", \" \", text) # removes spaces\n",
    "    text = re.sub('\\s+', ' ', text) # matches all whitespace characters : \\t\\n\\r\\f\\v\n",
    "    text = text.strip(' ') # removes leading and trailing blanks\n",
    "    \n",
    "    return text"
   ]
  },
  {
   "cell_type": "code",
   "execution_count": null,
   "metadata": {},
   "outputs": [],
   "source": [
    "posts_body_clean1 = posts_body.apply(lambda x: clean_text(x))\n",
    "\n",
    "# the text of the post, without tags or markup\n",
    "posts_body_clean2 = posts_body_clean1.apply(lambda x: BeautifulSoup(x).get_text())"
   ]
  },
  {
   "cell_type": "code",
   "execution_count": null,
   "metadata": {},
   "outputs": [
    {
     "data": {
      "text/plain": [
       "3160     <p>what are some real world places that call for delegates? i'm curious what situations or patterns are present where this method is the best solution. no code required.</p>                                                                                                                                                                                                                                                                                                                                                                                                                                                                                                                                                                                                                                                                                                                                                                                                                                                                                                                                                                                                                                                                                                                                                                                                                                                                                                                                                                                                                                                                                                                                                                                                                                                                                                                                                                                                                                                                                                                                                                                                                                                                                                                                                                                                                                                                                                                                                                                                                                                                                                                                                                 \n",
       "35063    <p>nikhil kothari's <a href=\"http://projects.nikhilk.net/scriptsharp/\" rel=\"nofollow noreferrer\">script#</a> is quite possibly one of the most amazing concepts i've seen in the javascript arena for quite some time. this question isn't about javascript, but rather about language compilation in the .net runtime.</p> <p>i've been rather interested in how, using the .net platform, one can write a compiler for a language that already has a compiler (like c#) that will generate separate output from the original compiler while allowing the original compiler to generate output for the same source during the same build operation, all the while referencing/using the output of the other compiler as well.</p> <p>i'm not entirely sure i even understand the process well enough to ask the question with the right details, but this is the way i currently see the process, as per diagrams in the script# docs. i've thought about many things involving complex language design and compilation that may be able to take advantage of concepts like this and i'm interested in what other people think about the concepts.</p> <p>--</p> <p>edit: thanks for commenting,so far; your information is, in it's own right, very intriguing and i should like to research it more, but my question is actually about how i would be able to write my own compiler/s that can be run on the same source at the same time producing multiple different types of (potentially) interdependent output using the clr. script# serves as an example since it generates javascript and an assembly using the same c# source, all the while making the compiled assembly cooperate with the javascript. i'm curious what the various approaches and theoretical concepts are in designing something of this nature.</p>                                                                                                                                                                                                                                                                                                                                                                                                                                                                                                                                                                                                                                                                                                                                                                                                                                                                                                          \n",
       "35804    <p>the question i want to ask is thus:</p> <p>is casting down the inheritance tree (ie. towards a more specialiased class) from inside an abstract class excusable, or even a good thing, or is it always a poor choice with better options available?</p> <p>now, the example of why i think it can be used for good.</p> <p>i recently implemented <a href=\"http://www.bittorrent.org/beps/bep_0003.html#the-connectivity-is-as-follows\" rel=\"nofollow noreferrer\">bencoding from the bittorrent protocol</a> in c#. a simple enough problem, how to represent the data. i chose to do it this way,</p> <p>we have an <code>abstract bitem</code> class, which provides some basic functionality, including the <code>static bitem decode(string)</code> that is used to decode a bencoded string into the necessary structure.</p> <p>there are also four derived classes, <code>bstring</code>, <code>binteger</code>, <code>blist</code> and <code>bdictionary</code>, representing the four different data types that be encoded. now, here is the tricky part. <code>blist</code> and <code>bdictionary</code> have <code>this[int]</code> and <code>this[string]</code> accessors respectively to allow access to the array-like qualities of these data types.</p> <p>the potentially horrific part is coming now:</p> <pre><code>bdictionary torrent = (bdictionary) bitem.decodefile(\"my.torrent\"); int filelength = (binteger)((bdictionary)((blist)((bdictionary) torrent[\"info\"])[\"files\"])[0])[\"length\"]; </code></pre> <p>well, you get the picture... ouch, that's hard on the eyes, not to mention the brain. so, i introduced something extra into the abstract class:</p> <pre><code>public bitem this[int index] { get { return ((blist)this)[index]; } } public bitem this[string index] { get { return ((bdictionary)this)[index]; } } </code></pre> <p>now we could rewrite that old code as:</p> <pre><code>bdictionary torrent = (bdictionary)bitem.decodefile(\"my.torrent\"); int filelength = (binteger)torrent[\"info\"][\"files\"][0][\"length\"]; </code></pre> <p>wow, hey presto, much more readable code. but did i just sell part of my soul for implying knowledge of subclasses into the abstract class?</p> <p>edit: in response to some of the answers coming in, you're completely off track for this particular question since the structure is variable, for instance my example of <code>torrent[\"info\"][\"files\"][0][\"length\"]</code> is valid, but so is <code>torrent[\"announce-list\"][0][0]</code>, and both would be in 90% of torrent files out there. generics isn't the way to go, with this problem atleast :(. have a click through to the spec i linked, it's only 4 small dot-points large.</p>\n",
       "49070    <p>i'm trying to create a logger for a gwt application as an exercise to evaluate gwt. what i specifically want to do is have it so that i can post messages to a client side label at any point from the server side. so, if some interesting stuff has happened on the server the client can be updated.</p> <p>my first question is, is this possible, i can understand it not being.</p> <p>second, if it is possible, where should i look for information, i've tried google and their documentation and all the showcases have nothing on this.</p> <p>thanks</p>                                                                                                                                                                                                                                                                                                                                                                                                                                                                                                                                                                                                                                                                                                                                                                                                                                                                                                                                                                                                                                                                                                                                                                                                                                                                                                                                                                                                                                                                                                                                                                                                                                                                                                                                                                                                                                                                                                                                                                                                                                                                                                                                                                       \n",
       "51679    <p>i'm a developer who works on both individual and group projects using microsoft visual studio. i could setup one of several different source control packages, such as vss, sourcegear vault or svn on a server of my own and access them remotely; however, i don't want to deal with the hassle of setting it up, configuring it, etc.</p> <p>does anyone offer a hosted source control service?</p>                                                                                                                                                                                                                                                                                                                                                                                                                                                                                                                                                                                                                                                                                                                                                                                                                                                                                                                                                                                                                                                                                                                                                                                                                                                                                                                                                                                                                                                                                                                                                                                                                                                                                                                                                                                                                                                                                                                                                                                                                                                                                                                                                                                                                                                                                                                                     \n",
       "67611    <p>thats what i am using to read e-mail using c#:</p> <pre><code>outlookapp.newmailex += new applicationevents_11_newmailexeventhandler(outlookapp_newmailex); outlook.namespace olnamespace = outlookapp.getnamespace(\"mapi\"); olnamespace.logon(\"xxxx\", \"xxxxx\", false, true); outlook.mapifolder oinbox = olnamespace.getdefaultfolder(outlook.oldefaultfolders.olfolderinbox); outlook.items oitems = oinbox.items; messagebox.show(\"total : \" + oitems.count); //total itemin inbox oitems = oitems.restrict(\"[unread] = true\"); messagebox.show(\"total unread : \" + oitems.count); //unread items outlook.mailitem omsg; outlook.attachment mailattachement; for (int i = 0; i &lt; oitems.count; i++) { omsg = (outlook.mailitem)oitems.getfirst(); messagebox.show(i.tostring()); messagebox.show(omsg.sendername); messagebox.show(omsg.subject); messagebox.show(omsg.receivedtime.tostring()); messagebox.show(omsg.body); </code></pre> <p>the problem that i am facing is this application only works if the outlook is open on the machine. if outlook is closed it throws an exception:</p> <blockquote> <p>the server is not available. contact your administrator if this condition persists.</p> </blockquote> <p>is there anyway i can read e-mail with outlook open?</p>                                                                                                                                                                                                                                                                                                                                                                                                                                                                                                                                                                                                                                                                                                                                                                                                                                                                                                                                                                                                                                                                                                                                                                                                                                                                                                                                                                                                                                                  \n",
       "68704    <p>i once read about an open source database for postal codes with geolocation data but now i can't remember its name. can someone help?</p>                                                                                                                                                                                                                                                                                                                                                                                                                                                                                                                                                                                                                                                                                                                                                                                                                                                                                                                                                                                                                                                                                                                                                                                                                                                                                                                                                                                                                                                                                                                                                                                                                                                                                                                                                                                                                                                                                                                                                                                                                                                                                                                                                                                                                                                                                                                                                                                                                                                                                                                                                                                                  \n",
       "70321    <p>where i work, we have small teams of 2 - 5 people. as a dev lead, what are some things that you've implemented which makes your team stand out from the others? meaning, it makes the others teams say, \"that's cool\" or \"why didn't we think of that\". just some thinking out of the box that made your team extremely efficient.</p>                                                                                                                                                                                                                                                                                                                                                                                                                                                                                                                                                                                                                                                                                                                                                                                                                                                                                                                                                                                                                                                                                                                                                                                                                                                                                                                                                                                                                                                                                                                                                                                                                                                                                                                                                                                                                                                                                                                                                                                                                                                                                                                                                                                                                                                                                                                                                                                                     \n",
       "74429    <p>does anyone know of a way to monitor table record changes in a sql server (2005 or 2008) database from a .net application? it needs to be able to support multiple clients at a time. each client will \"subscribe\" when it starts, and \"unsubscribe\" when it exits. multiple users could be accessing the system at once and i want to reflect their changes on the other users client. then when the client handles the change event, it could update it's local object representing that record. kind of similar to how access updates records that are modified are reflected in each form referencing it.</p> <p>i know microsoft has their microsoft.sqlserver libraries for interacting with a sql server. but i'm not sure which concept applies to what i want to do (or what could be bent to apply to what i want to do). the ones that sound like they might be useful are the management ones or the replication one.</p> <p>in anticipation of someone asking, \"why don't you just requery the table occasionally to look for new information?\" i have a large number of tables that i want to monitor and that would be a pain in the butt. plus if i'm looking for something a bit more elegant.</p> <p>i'm open to suggestions...</p>                                                                                                                                                                                                                                                                                                                                                                                                                                                                                                                                                                                                                                                                                                                                                                                                                                                                                                                                                                                                                                                                                                                                                                                                                                                                                                                                                                                                                                                                                      \n",
       "86071    <p>i am wondering if there are any additional optimizations i can implement to improve the speed of reflective invocations in java. not that the performance is prohibitive, but i get the willies when thinking about some piece of code in a library i am writing being implemented in a tight loop somewhere.</p> <p>consider a utility method to invoke reflectively:</p> <pre><code>public static object invoke(object targetobject, string methodname, object[] arguments, class&lt;?&gt;[] signature) </code></pre> <p>the basic operation is</p> <pre><code>return method.invoke(targetobject, arguments); </code></pre> <p>as a performance optimization, i cache the method using a hash of the target object's class, method name and signature (the code of which might use some improvement) but beyond that, is there anything else i can do ? i have heard references to some early implementations of <strong>invokedynamic</strong> that sound promising, but i just assumed that they were probably not applicable yet, and i discounted my own byte code manipulation as i would like to keep the utility simple (but fast).</p> <p>cheers.</p>                                                                                                                                                                                                                                                                                                                                                                                                                                                                                                                                                                                                                                                                                                                                                                                                                                                                                                                                                                                                                                                                                                                                                                                                                                                                                                                                                                                                                                                                                                                                                                            \n",
       "Name: Body, dtype: object"
      ]
     },
     "execution_count": 7,
     "metadata": {},
     "output_type": "execute_result"
    }
   ],
   "source": [
    "# avant nettoyage\n",
    "posts_body_clean1.loc[few_posts.index].sort_index()"
   ]
  },
  {
   "cell_type": "code",
   "execution_count": null,
   "metadata": {},
   "outputs": [
    {
     "data": {
      "text/plain": [
       "3160     what are some real world places that call for delegates? i'm curious what situations or patterns are present where this method is the best solution. no code required.                                                                                                                                                                                                                                                                                                                                                                                                                                                                                                                                                                                                                                                                                                                                                                                                                                                                                                                                                                                                                                                                                                                                                                                                                                                                                                                                                                                                                                                                                                                                                                                                                                                                                                                                                                                                                                                                                                                                                                                                                                                                                                                                   \n",
       "35063    nikhil kothari's script# is quite possibly one of the most amazing concepts i've seen in the javascript arena for quite some time. this question isn't about javascript, but rather about language compilation in the .net runtime. i've been rather interested in how, using the .net platform, one can write a compiler for a language that already has a compiler (like c#) that will generate separate output from the original compiler while allowing the original compiler to generate output for the same source during the same build operation, all the while referencing/using the output of the other compiler as well. i'm not entirely sure i even understand the process well enough to ask the question with the right details, but this is the way i currently see the process, as per diagrams in the script# docs. i've thought about many things involving complex language design and compilation that may be able to take advantage of concepts like this and i'm interested in what other people think about the concepts. -- edit: thanks for commenting,so far; your information is, in it's own right, very intriguing and i should like to research it more, but my question is actually about how i would be able to write my own compiler/s that can be run on the same source at the same time producing multiple different types of (potentially) interdependent output using the clr. script# serves as an example since it generates javascript and an assembly using the same c# source, all the while making the compiled assembly cooperate with the javascript. i'm curious what the various approaches and theoretical concepts are in designing something of this nature.                                                                                                                                                                                                                                                                                                                                                                                                                                                                                                                                                                                         \n",
       "35804    the question i want to ask is thus: is casting down the inheritance tree (ie. towards a more specialiased class) from inside an abstract class excusable, or even a good thing, or is it always a poor choice with better options available? now, the example of why i think it can be used for good. i recently implemented bencoding from the bittorrent protocol in c#. a simple enough problem, how to represent the data. i chose to do it this way, we have an abstract bitem class, which provides some basic functionality, including the static bitem decode(string) that is used to decode a bencoded string into the necessary structure. there are also four derived classes, bstring, binteger, blist and bdictionary, representing the four different data types that be encoded. now, here is the tricky part. blist and bdictionary have this[int] and this[string] accessors respectively to allow access to the array-like qualities of these data types. the potentially horrific part is coming now: bdictionary torrent = (bdictionary) bitem.decodefile(\"my.torrent\"); int filelength = (binteger)((bdictionary)((blist)((bdictionary) torrent[\"info\"])[\"files\"])[0])[\"length\"];  well, you get the picture... ouch, that's hard on the eyes, not to mention the brain. so, i introduced something extra into the abstract class: public bitem this[int index] { get { return ((blist)this)[index]; } } public bitem this[string index] { get { return ((bdictionary)this)[index]; } }  now we could rewrite that old code as: bdictionary torrent = (bdictionary)bitem.decodefile(\"my.torrent\"); int filelength = (binteger)torrent[\"info\"][\"files\"][0][\"length\"];  wow, hey presto, much more readable code. but did i just sell part of my soul for implying knowledge of subclasses into the abstract class? edit: in response to some of the answers coming in, you're completely off track for this particular question since the structure is variable, for instance my example of torrent[\"info\"][\"files\"][0][\"length\"] is valid, but so is torrent[\"announce-list\"][0][0], and both would be in 90% of torrent files out there. generics isn't the way to go, with this problem atleast :(. have a click through to the spec i linked, it's only 4 small dot-points large.\n",
       "49070    i'm trying to create a logger for a gwt application as an exercise to evaluate gwt. what i specifically want to do is have it so that i can post messages to a client side label at any point from the server side. so, if some interesting stuff has happened on the server the client can be updated. my first question is, is this possible, i can understand it not being. second, if it is possible, where should i look for information, i've tried google and their documentation and all the showcases have nothing on this. thanks                                                                                                                                                                                                                                                                                                                                                                                                                                                                                                                                                                                                                                                                                                                                                                                                                                                                                                                                                                                                                                                                                                                                                                                                                                                                                                                                                                                                                                                                                                                                                                                                                                                                                                                                                              \n",
       "51679    i'm a developer who works on both individual and group projects using microsoft visual studio. i could setup one of several different source control packages, such as vss, sourcegear vault or svn on a server of my own and access them remotely; however, i don't want to deal with the hassle of setting it up, configuring it, etc. does anyone offer a hosted source control service?                                                                                                                                                                                                                                                                                                                                                                                                                                                                                                                                                                                                                                                                                                                                                                                                                                                                                                                                                                                                                                                                                                                                                                                                                                                                                                                                                                                                                                                                                                                                                                                                                                                                                                                                                                                                                                                                                                              \n",
       "67611    thats what i am using to read e-mail using c#: outlookapp.newmailex += new applicationevents_11_newmailexeventhandler(outlookapp_newmailex); outlook.namespace olnamespace = outlookapp.getnamespace(\"mapi\"); olnamespace.logon(\"xxxx\", \"xxxxx\", false, true); outlook.mapifolder oinbox = olnamespace.getdefaultfolder(outlook.oldefaultfolders.olfolderinbox); outlook.items oitems = oinbox.items; messagebox.show(\"total : \" + oitems.count); //total itemin inbox oitems = oitems.restrict(\"[unread] = true\"); messagebox.show(\"total unread : \" + oitems.count); //unread items outlook.mailitem omsg; outlook.attachment mailattachement; for (int i = 0; i < oitems.count; i++) { omsg = (outlook.mailitem)oitems.getfirst(); messagebox.show(i.tostring()); messagebox.show(omsg.sendername); messagebox.show(omsg.subject); messagebox.show(omsg.receivedtime.tostring()); messagebox.show(omsg.body);  the problem that i am facing is this application only works if the outlook is open on the machine. if outlook is closed it throws an exception:  the server is not available. contact your administrator if this condition persists.  is there anyway i can read e-mail with outlook open?                                                                                                                                                                                                                                                                                                                                                                                                                                                                                                                                                                                                                                                                                                                                                                                                                                                                                                                                                                                                                                                                                             \n",
       "68704    i once read about an open source database for postal codes with geolocation data but now i can't remember its name. can someone help?                                                                                                                                                                                                                                                                                                                                                                                                                                                                                                                                                                                                                                                                                                                                                                                                                                                                                                                                                                                                                                                                                                                                                                                                                                                                                                                                                                                                                                                                                                                                                                                                                                                                                                                                                                                                                                                                                                                                                                                                                                                                                                                                                                    \n",
       "70321    where i work, we have small teams of 2 - 5 people. as a dev lead, what are some things that you've implemented which makes your team stand out from the others? meaning, it makes the others teams say, \"that's cool\" or \"why didn't we think of that\". just some thinking out of the box that made your team extremely efficient.                                                                                                                                                                                                                                                                                                                                                                                                                                                                                                                                                                                                                                                                                                                                                                                                                                                                                                                                                                                                                                                                                                                                                                                                                                                                                                                                                                                                                                                                                                                                                                                                                                                                                                                                                                                                                                                                                                                                                                       \n",
       "74429    does anyone know of a way to monitor table record changes in a sql server (2005 or 2008) database from a .net application? it needs to be able to support multiple clients at a time. each client will \"subscribe\" when it starts, and \"unsubscribe\" when it exits. multiple users could be accessing the system at once and i want to reflect their changes on the other users client. then when the client handles the change event, it could update it's local object representing that record. kind of similar to how access updates records that are modified are reflected in each form referencing it. i know microsoft has their microsoft.sqlserver libraries for interacting with a sql server. but i'm not sure which concept applies to what i want to do (or what could be bent to apply to what i want to do). the ones that sound like they might be useful are the management ones or the replication one. in anticipation of someone asking, \"why don't you just requery the table occasionally to look for new information?\" i have a large number of tables that i want to monitor and that would be a pain in the butt. plus if i'm looking for something a bit more elegant. i'm open to suggestions...                                                                                                                                                                                                                                                                                                                                                                                                                                                                                                                                                                                                                                                                                                                                                                                                                                                                                                                                                                                                                                                                             \n",
       "86071    i am wondering if there are any additional optimizations i can implement to improve the speed of reflective invocations in java. not that the performance is prohibitive, but i get the willies when thinking about some piece of code in a library i am writing being implemented in a tight loop somewhere. consider a utility method to invoke reflectively: public static object invoke(object targetobject, string methodname, object[] arguments, class<?>[] signature)  the basic operation is return method.invoke(targetobject, arguments);  as a performance optimization, i cache the method using a hash of the target object's class, method name and signature (the code of which might use some improvement) but beyond that, is there anything else i can do ? i have heard references to some early implementations of invokedynamic that sound promising, but i just assumed that they were probably not applicable yet, and i discounted my own byte code manipulation as i would like to keep the utility simple (but fast). cheers.                                                                                                                                                                                                                                                                                                                                                                                                                                                                                                                                                                                                                                                                                                                                                                                                                                                                                                                                                                                                                                                                                                                                                                                                                                                 \n",
       "Name: Body, dtype: object"
      ]
     },
     "execution_count": 8,
     "metadata": {},
     "output_type": "execute_result"
    }
   ],
   "source": [
    "# après nettoyage\n",
    "posts_body_clean2.loc[few_posts.index].sort_index()"
   ]
  },
  {
   "cell_type": "code",
   "execution_count": null,
   "metadata": {},
   "outputs": [],
   "source": [
    "def clean_punctuation(text, ignore_words): \n",
    "    ''' Remove punctuation\n",
    "    Parameters:\n",
    "    text: corpus to remove punctuation from it\n",
    "    ignore_words: list of words to include without processing them\n",
    "    '''\n",
    "    \n",
    "    \n",
    "    words = spacy_tokenizer(text)\n",
    "    punctuation_filtered = []\n",
    "    regex = re.compile('[%s]' % re.escape(punctuation))\n",
    "    \n",
    "    for w in words:\n",
    "        # certains mots peuvent être des tags qui contiennent des signes de ponctuation, il faut les conserver tels quels\n",
    "        # en utilisant une liste de top tags la plus exhaustive possible\n",
    "        if '<'+str(w)+'>' in ignore_words: \n",
    "            punctuation_filtered.append(str(w))\n",
    "        else:\n",
    "            w = re.sub('[0-9]', ' ', str(w)) # word contains no digits\n",
    "            punctuation_filtered.append(regex.sub(' ', str(w)))\n",
    "        \n",
    "    result = ' '.join(punctuation_filtered)\n",
    "    result = re.sub(' +', ' ', result) # remove duplicates whitespaces\n",
    "    \n",
    "    return result "
   ]
  },
  {
   "cell_type": "code",
   "execution_count": null,
   "metadata": {},
   "outputs": [],
   "source": [
    "posts_body_clean3 = posts_body_clean2.apply(lambda x: clean_punctuation(x, top100tags))"
   ]
  },
  {
   "cell_type": "code",
   "execution_count": null,
   "metadata": {},
   "outputs": [],
   "source": [
    "# après nettoyage\n",
    "posts_body_clean3.loc[few_posts.index].sort_index()"
   ]
  },
  {
   "cell_type": "code",
   "execution_count": null,
   "metadata": {},
   "outputs": [],
   "source": [
    "print(posts_body_clean3.loc[posts_body_clean3.str.contains(re.escape('c++'))].head(1))"
   ]
  },
  {
   "cell_type": "code",
   "execution_count": null,
   "metadata": {},
   "outputs": [],
   "source": [
    "def stopWordsRemove(text, stop_words):\n",
    "    ''' Removing all the english stop words from a corpus\n",
    "    Parameter:\n",
    "    text: corpus to remove stop words from it\n",
    "    stop_words: list of stop words to exclude\n",
    "    '''\n",
    "\n",
    "    \n",
    "    words = spacy_tokenizer(text)\n",
    "    filtered = [str(w) for w in words if not str(w) in stop_words]\n",
    "    text = ' '.join(map(str, filtered))\n",
    "    result = re.sub(' +', ' ', text) # remove duplicates whitespaces\n",
    "    \n",
    "    return result"
   ]
  },
  {
   "cell_type": "code",
   "execution_count": null,
   "metadata": {},
   "outputs": [],
   "source": [
    "def lemmatization(text_in, allowed_postags, ignore_words):\n",
    "    ''' It keeps the lemma of the words (lemma is the uninflected form of a word),\n",
    "    and deletes the undesired POS tags\n",
    "    \n",
    "    Parameters:\n",
    "    \n",
    "    text_in (list): text to lemmatize\n",
    "    allowed_postags (list): list of allowed postags, like NOUN, ADJ, VERB, ADV\n",
    "    ignore_words: list of words to include without processing them\n",
    "    '''\n",
    "\n",
    "    \n",
    "    doc = nlp(text_in) \n",
    "    text_out = []\n",
    "    \n",
    "    for token in doc:\n",
    "        \n",
    "        if str(token) in ignore_words:\n",
    "            text_out.append(str(token))\n",
    "            \n",
    "        elif token.pos_ in allowed_postags:            \n",
    "            text_out.append(token.lemma_)\n",
    "                \n",
    "    text_out = ' '.join(text_out)\n",
    "    result = re.sub(' +', ' ', text_out) # remove duplicates whitespaces\n",
    "\n",
    "    return result"
   ]
  },
  {
   "cell_type": "markdown",
   "metadata": {},
   "source": [
    "Il y a pas mal de mots (ex: like, use, get, new) qui n'apportent aucune information pertinente sur le contenu de la question. \n",
    "\n",
    "Je me focalise donc sur les noms essentiellement. "
   ]
  },
  {
   "cell_type": "code",
   "execution_count": null,
   "metadata": {},
   "outputs": [],
   "source": [
    "auto_stopwords = set(set(nlp.Defaults.stop_words) | set(stopwords.words(\"english\")))\n",
    "posts_body_clean4 = posts_body_clean3.apply(lambda x: stopWordsRemove(x, auto_stopwords)) \n",
    "posts_body_clean5 = posts_body_clean4.apply(lambda x: lemmatization(x, ['NOUN'], top100tags))"
   ]
  },
  {
   "cell_type": "code",
   "execution_count": null,
   "metadata": {},
   "outputs": [],
   "source": [
    "# après nettoyage\n",
    "posts_body_clean5.loc[few_posts.index].sort_index()"
   ]
  },
  {
   "cell_type": "code",
   "execution_count": null,
   "metadata": {},
   "outputs": [],
   "source": [
    "print(posts_body_clean5.loc[posts_body_clean5.str.contains(re.escape('c++'))].head(1))"
   ]
  },
  {
   "cell_type": "code",
   "execution_count": null,
   "metadata": {},
   "outputs": [],
   "source": [
    "#doc = nlp(\"successfully\")\n",
    "#for token in doc:\n",
    "#    print(token.text, token.lemma_, token.pos_, token.tag_, token.dep_, token.shape_, token.is_alpha, token.is_stop)"
   ]
  },
  {
   "cell_type": "code",
   "execution_count": null,
   "metadata": {},
   "outputs": [],
   "source": [
    "import matplotlib.pyplot as plt\n",
    "# Graph showing the words most used in the post on Stackoverflow\n",
    "\n",
    "txt = posts_body_clean5.str.cat(sep=' ')\n",
    "words = nltk.tokenize.word_tokenize(txt)\n",
    "word_dist = nltk.FreqDist(words)\n",
    "result = pd.DataFrame(word_dist.most_common(25),columns=['Word','Frequency'])\n",
    "\n",
    "plt.figure(figsize=(20, 5))\n",
    "plt.xlabel('Number of tags', fontsize=18)\n",
    "plt.ylabel('Number of posts', fontsize=18)\n",
    "plt.xticks(rotation=90, fontsize=15)\n",
    "plt.yticks(fontsize=15)\n",
    "plt.bar(result.Word, result.Frequency)\n",
    "plt.title(\"Words most used in the posts on Stackoverflow\",fontsize=20)\n",
    "plt.style.use('fivethirtyeight')\n",
    "plt.show()"
   ]
  },
  {
   "cell_type": "code",
   "execution_count": null,
   "metadata": {},
   "outputs": [],
   "source": [
    "result = pd.DataFrame(word_dist.most_common(200),columns=['Word','Frequency'])\n",
    "display(result)"
   ]
  },
  {
   "cell_type": "markdown",
   "metadata": {},
   "source": [
    "Dans le lot, il y a des mots \"fourre-tout\" que j'intègre aux stopwords et je réapplique la fonction de suppression des stopwords. "
   ]
  },
  {
   "cell_type": "code",
   "execution_count": null,
   "metadata": {},
   "outputs": [],
   "source": [
    "manual_stopwords = ['file', 'way', 'application', 'user', 'use', 'method',\n",
    "                    'example', 'problem', 'work', 'test', 'question', 'project', 'thank',\n",
    "                    'return', 'solution', 'thing', 'change', 'program', 'idea', 'end',\n",
    "                    'message', 'result', 'answer', 'issue', 'language', 'information',\n",
    "                    'document', 'e', 'default', 'help', 'people', 'run', 'testing',\n",
    "                    'difference', 'stuff', 'need', 'response', 'check', 'product', 'approach', \n",
    "                    'want', 'suggestion', 'n', 'custom', 'create', 'p', 'place', 'comment',\n",
    "                    'support', 'person', 'expression']\n",
    "\n",
    "manual_stopwords = set(manual_stopwords)\n",
    "posts_body_clean5 = posts_body_clean5.apply(lambda x: stopWordsRemove(x, manual_stopwords)) "
   ]
  },
  {
   "cell_type": "code",
   "execution_count": null,
   "metadata": {},
   "outputs": [],
   "source": [
    "print(posts_body_clean5.loc[posts_body_clean5.str.contains(re.escape('c++'))].head(1))"
   ]
  },
  {
   "cell_type": "code",
   "execution_count": null,
   "metadata": {},
   "outputs": [],
   "source": [
    "import matplotlib.pyplot as plt\n",
    "# Graph showing the words most used in the post on Stackoverflow\n",
    "\n",
    "txt = posts_body_clean5.str.cat(sep=' ')\n",
    "words = nltk.tokenize.word_tokenize(txt)\n",
    "word_dist = nltk.FreqDist(words)\n",
    "result = pd.DataFrame(word_dist.most_common(25),columns=['Word','Frequency'])\n",
    "\n",
    "plt.figure(figsize=(20, 5))\n",
    "plt.xlabel('Number of tags', fontsize=18)\n",
    "plt.ylabel('Number of posts', fontsize=18)\n",
    "plt.xticks(rotation=90, fontsize=15)\n",
    "plt.yticks(fontsize=15)\n",
    "plt.bar(result.Word, result.Frequency)\n",
    "plt.title(\"Words most used in the posts on Stackoverflow\",fontsize=20)\n",
    "plt.style.use('fivethirtyeight')\n",
    "plt.show()"
   ]
  },
  {
   "cell_type": "code",
   "execution_count": null,
   "metadata": {},
   "outputs": [],
   "source": [
    "# SAUVEGARDE\n",
    "posts_body_clean5.to_pickle(\"./posts_body_clean5.pkl\")"
   ]
  }
 ],
 "metadata": {
  "kernelspec": {
   "display_name": "Python 3",
   "language": "python",
   "name": "python3"
  },
  "language_info": {
   "codemirror_mode": {
    "name": "ipython",
    "version": 3
   },
   "file_extension": ".py",
   "mimetype": "text/x-python",
   "name": "python",
   "nbconvert_exporter": "python",
   "pygments_lexer": "ipython3",
   "version": "3.7.1"
  }
 },
 "nbformat": 4,
 "nbformat_minor": 2
}
